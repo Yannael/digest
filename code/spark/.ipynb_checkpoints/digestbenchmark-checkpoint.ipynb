{
 "cells": [
  {
   "cell_type": "code",
   "execution_count": 1,
   "metadata": {
    "collapsed": false
   },
   "outputs": [
    {
     "data": {
      "text/plain": [
       "DataFrame[key: string, value: string]"
      ]
     },
     "execution_count": 1,
     "metadata": {},
     "output_type": "execute_result"
    }
   ],
   "source": [
    "from pyspark import SparkContext, SparkConf\n",
    "from pyspark.sql import SQLContext\n",
    "from pyspark.sql import HiveContext\n",
    "import json\n",
    "import time\n",
    "import sys\n",
    "import math #Needed for floor/ceil\n",
    "from scipy.stats import fisher_exact, ttest_ind\n",
    "import numpy as np\n",
    "\n",
    "conf = (SparkConf()\n",
    "         .setMaster(\"local[8]\")\n",
    "       )\n",
    "sc.stop()\n",
    "sc = SparkContext(conf=conf)\n",
    "\n",
    "sqlContext = SQLContext(sc)\n",
    "sqlContext.sql(\"SET spark.sql.parquet.binaryAsString=true\")\n"
   ]
  },
  {
   "cell_type": "code",
   "execution_count": 2,
   "metadata": {
    "collapsed": false
   },
   "outputs": [],
   "source": [
    "#Input is vector patient, chr, pos, ref, alt, gene_symbol, zygosity\n",
    "def createKey_VariantGene(variantData):\n",
    "    #ID is chr:pos:ref:alt\n",
    "    ID=variantData[1]+\":\"+str(variantData[2])+\":\"+variantData[3]+\":\"+variantData[4]\n",
    "    \n",
    "    #return ID, gene_symbol, patient, zygosity\n",
    "    zygosity=1\n",
    "    if variantData[6]==\"Homozygous\":\n",
    "    #if variantData[6]==2:\n",
    "        zygosity=2\n",
    "    patientsID_dictionnary=patientsID_dictionnary_b.value\n",
    "    patientIndex=patientsID_dictionnary[variantData[0]]\n",
    "    return ((ID,variantData[5]),(patientIndex,zygosity))\n",
    "\n",
    "#variantGeneEntry: key is (variantID,gene), value is (patientIndex,zygosity)\n",
    "def geneAsKey(variantGeneEntry):    \n",
    "    return (variantGeneEntry[0][1],(variantGeneEntry[0][0],variantGeneEntry[1]))\n",
    "\n",
    "def getVariantID(key_VariantGene):\n",
    "    return key_VariantGene[0]\n",
    "\n",
    "def f(splitIndex ,v): \n",
    "    return [(splitIndex,list(v))]\n",
    "\n",
    "def toSQLString(strList):\n",
    "    strList=\"','\".join(strList)\n",
    "    return \"('\"+strList+\"')\""
   ]
  },
  {
   "cell_type": "code",
   "execution_count": 3,
   "metadata": {
    "collapsed": true
   },
   "outputs": [],
   "source": [
    "#Transform sparse data (list of (sample_id,zygozity)) into vector z_i\n",
    "def vectorize(genotypeDataList):\n",
    "    genotypeDataList=list(genotypeDataList)\n",
    "    genotypeVector=[0]*len(patientsID_dictionnary_b.value)\n",
    "    if len(genotypeDataList)>0:\n",
    "        for j in range(0,len(genotypeDataList)):\n",
    "            genotypeVector[genotypeDataList[j][0]]=genotypeDataList[j][1]\n",
    "        \n",
    "        sumCase=float(sum([int(x>0) for x in genotypeVector[0:patientsID_split_index_b.value]]))\n",
    "        sumControl=float(sum([int(x>0) for x in genotypeVector[patientsID_split_index_b.value:len(patientsID_dictionnary_b.value)]]))\n",
    "    \n",
    "        ratioCase=sumCase/patientsID_split_index_b.value\n",
    "        ratioControl=sumControl/(len(patientsID_dictionnary_b.value)-patientsID_split_index_b.value)\n",
    "        \n",
    "        if (ratioCase>float(caseMAF_b.value)) or (ratioControl>float(controlMAF_b.value)):\n",
    "            genotypeVector=[0]*len(patientsID_dictionnary_b.value)\n",
    "        \n",
    "    return genotypeVector        \n"
   ]
  },
  {
   "cell_type": "code",
   "execution_count": 4,
   "metadata": {
    "collapsed": false
   },
   "outputs": [],
   "source": [
    "#Compute burden for variantList\n",
    "def burden(geneID_variantList):\n",
    "    (geneID,variantList)=geneID_variantList\n",
    "    variantList=list(variantList)\n",
    "    burden=[0]*len(patientsID_dictionnary_b.value)\n",
    "    \n",
    "    if len(variantList)>0:\n",
    "        #Go through list of variants\n",
    "        for i in range(0,len(variantList)):\n",
    "            #Get variant ID, and list of sample_index,genotype\n",
    "            (variantID,genotypeDataList)=variantList[i]\n",
    "            #if genotypeDataList.__class__==tuple:\n",
    "            #    genotypeDataList=[genotypeDataList]\n",
    "            #else:\n",
    "            #    genotypeDataList=list(genotypeDataList)\n",
    "            \n",
    "            #Get genotype vector for current variantID\n",
    "            genotypeDataVector=vectorize(genotypeDataList)\n",
    "            #And sum with previous genotype vectors\n",
    "            burden=[x+y for x,y in zip(burden,genotypeDataVector)]\n",
    "    \n",
    "    return (geneID,burden)"
   ]
  },
  {
   "cell_type": "code",
   "execution_count": 5,
   "metadata": {
    "collapsed": true
   },
   "outputs": [],
   "source": [
    "#variantList is [(locusID,[genotype])]\n",
    "def scoreVariant(ID_genotypeDataList):\n",
    "    ((variantID,geneID),genotypeDataList)=ID_genotypeDataList\n",
    "    #genotypeList=list(value_GenotypeList)\n",
    "    \n",
    "    patientsID_dictionnary=patientsID_dictionnary_b.value\n",
    "    patientsID_split_index=patientsID_split_index_b.value\n",
    "    \n",
    "    genotypeDataVector=vectorize(genotypeDataList)\n",
    "    \n",
    "    #sumCase=float(sum([int(x>0) for x in genotypeDataVector[0:patientsID_split_index]]))\n",
    "    #sumControl=float(sum([int(x>0) for x in genotypeDataVector[patientsID_split_index:len(patientsID_dictionnary)]]))\n",
    "    sumCase=float(sum([x for x in genotypeDataVector[0:patientsID_split_index]]))\n",
    "    sumControl=float(sum([x for x in genotypeDataVector[patientsID_split_index:len(patientsID_dictionnary)]]))\n",
    "    \n",
    "    ratioCase=sumCase/patientsID_split_index\n",
    "    ratioControl=sumControl/(len(patientsID_dictionnary)-patientsID_split_index)\n",
    "        \n",
    "    score=ratioCase-ratioControl\n",
    "    #pvalue=fisher_exact([[sumCase,patientsID_split_index-sumCase],[sumControl,len(patientsID_dictionnary)-patientsID_split_index]],'greater')[1]\n",
    "    pvalue=ttest_ind(genotypeDataVector[0:patientsID_split_index],genotypeDataVector[patientsID_split_index:len(patientsID_dictionnary)])[1]/2\n",
    "    \n",
    "    \n",
    "    if score>0:\n",
    "        return (variantID,(score,pvalue,ratioCase,ratioControl,sumCase,sumControl))#variantList is [(locusID,[genotype])]\n"
   ]
  },
  {
   "cell_type": "code",
   "execution_count": 6,
   "metadata": {
    "collapsed": true
   },
   "outputs": [],
   "source": [
    "def scoreVariantPair(variantIDpair,value_GenotypeListPair):\n",
    "    \n",
    "    genotypeListPair=list(value_GenotypeListPair)\n",
    "    \n",
    "    patientsID_dictionnary=patientsID_dictionnary_b.value\n",
    "    patientsID_split_index=patientsID_split_index_b.value\n",
    "    \n",
    "    score=0\n",
    "    if len(genotypeListPair)==2:\n",
    "        (variantID,genotypeList1)=genotypeListPair[0]\n",
    "        (variantID,genotypeList2)=genotypeListPair[1]\n",
    "        \n",
    "        variantID1=variantID[0]\n",
    "        variantID2=variantID[1]\n",
    "        \n",
    "        genotypeList1=list(genotypeList1)\n",
    "        genotypeList2=list(genotypeList2)\n",
    "        \n",
    "        genotypeVector1=getGenotypeVector(genotypeList1)\n",
    "        genotypeVector2=getGenotypeVector(genotypeList2)\n",
    "        \n",
    "        genotypeVector=[int(x>0 and y>0) for x,y in zip(genotypeVector1,genotypeVector2)]\n",
    "        \n",
    "        sumCase=float(sum([int(x>0) for x in genotypeVector[0:patientsID_split_index]]))\n",
    "        ratioCase=sumCase/patientsID_split_index\n",
    "        sumControl=float(sum([int(x>0) for x in genotypeVector[(patientsID_split_index+1):len(patientsID_dictionnary)]]))\n",
    "        ratioControl=sumControl/(len(patientsID_dictionnary)-patientsID_split_index)\n",
    "        \n",
    "        score=ratioCase-ratioControl\n",
    "        pvalue=fisher_exact([[sumCase,patientsID_split_index-sumCase],[sumControl,len(patientsID_dictionnary)-patientsID_split_index]],'greater')[1]\n",
    "        \n",
    "        #if score>0:\n",
    "        return (variantIDpair,((variantID1,variantID2),score,pvalue,ratioCase,ratioControl,sumCase,sumControl))\n",
    "\n"
   ]
  },
  {
   "cell_type": "code",
   "execution_count": 7,
   "metadata": {
    "collapsed": true
   },
   "outputs": [],
   "source": [
    "def scoreVariantPair(block_i,block_k,i,k):\n",
    "    block_k=list(block_k)\n",
    "    len_i=len(block_i)\n",
    "    len_k=len(block_k)\n",
    "    scores=[]\n",
    "\n",
    "    patientsID_dictionnary=patientsID_dictionnary_b.value\n",
    "    patientsID_split_index=patientsID_split_index_b.value\n",
    "    \n",
    "    start_k=0\n",
    "    skip_last=0\n",
    "    if i==k:\n",
    "        skip_last=1\n",
    "        if len_i==1:\n",
    "            len_i=0\n",
    "    \n",
    "    if len_i>0 and len_k>0:\n",
    "        for it_i in range(0,len_i-skip_last):\n",
    "            if i==k:\n",
    "                start_k=it_i+1\n",
    "            for it_k in range(start_k,len_k):\n",
    "                listLoadBlock_i=block_i[it_i]\n",
    "                listLoadBlock_k=block_k[it_k]\n",
    "                \n",
    "                genoSum=[int(x>0 and y>0) for x,y in zip(vectorize(listLoadBlock_i[1]),vectorize(listLoadBlock_k[1]))]\n",
    "                sumCase=float(sum([int(x>0) for x in genoSum[0:patientsID_split_index]]))\n",
    "                sumControl=float(sum([int(x>0) for x in genoSum[(patientsID_split_index):len(patientsID_dictionnary)]]))\n",
    "        \n",
    "                ratioCase=sumCase/patientsID_split_index\n",
    "                ratioControl=sumControl/(len(patientsID_dictionnary)-patientsID_split_index)\n",
    "        \n",
    "                score=ratioCase-ratioControl\n",
    "                pvalue=fisher_exact([[sumCase,patientsID_split_index-sumCase],[sumControl,len(patientsID_dictionnary)-patientsID_split_index]],'greater')[1]\n",
    "        \n",
    "                if score>=0:\n",
    "                    scores.append(((listLoadBlock_i[0],listLoadBlock_k[0]),(score,pvalue,ratioCase,ratioControl,sumCase,sumControl)))\n",
    "    return scores\n"
   ]
  },
  {
   "cell_type": "code",
   "execution_count": null,
   "metadata": {
    "collapsed": true
   },
   "outputs": [],
   "source": [
    "def scoreVariantPair(block_i,block_k,i,k):"
   ]
  },
  {
   "cell_type": "code",
   "execution_count": 8,
   "metadata": {
    "collapsed": false
   },
   "outputs": [],
   "source": [
    "#variantList is [(locusID,[sample_index,genotype])]\n",
    "def scoreGene(geneID_burden):\n",
    "    (geneID,burden)=geneID_burden\n",
    "    \n",
    "    patientsID_dictionnary=patientsID_dictionnary_b.value\n",
    "    patientsID_split_index=patientsID_split_index_b.value\n",
    "    \n",
    "    sumCase=float(sum([int(x>0) for x in burden[0:patientsID_split_index]]))\n",
    "    sumControl=float(sum([int(x>0) for x in burden[patientsID_split_index:len(patientsID_dictionnary)]]))\n",
    "    \n",
    "    ratioCase=sumCase/patientsID_split_index\n",
    "    ratioControl=sumControl/(len(patientsID_dictionnary)-patientsID_split_index)\n",
    "        \n",
    "    score=ratioCase-ratioControl\n",
    "    pvalue=fisher_exact([[sumCase,patientsID_split_index-sumCase],[sumControl,len(patientsID_dictionnary)-patientsID_split_index]],'greater')[1]\n",
    "    #pvalue=ttest_ind(genotypeVectorByGene[0:patientsID_split_index],genotypeVectorByGene[patientsID_split_index:len(patientsID_dictionnary)])[1]/2\n",
    "        \n",
    "    if score>=0:\n",
    "        return (geneID,(score,pvalue,ratioCase,ratioControl,sumCase,sumControl))"
   ]
  },
  {
   "cell_type": "code",
   "execution_count": 9,
   "metadata": {
    "collapsed": false
   },
   "outputs": [],
   "source": [
    "def scoreGenePair(block_i,block_k,i,k):\n",
    "    block_k=list(block_k)\n",
    "    len_i=len(block_i)\n",
    "    len_k=len(block_k)\n",
    "    scores=[]\n",
    "\n",
    "    patientsID_dictionnary=patientsID_dictionnary_b.value\n",
    "    patientsID_split_index=patientsID_split_index_b.value\n",
    "    \n",
    "    start_k=0\n",
    "    skip_last=0\n",
    "    if i==k:\n",
    "        skip_last=1\n",
    "        if len_i==1:\n",
    "            len_i=0\n",
    "    \n",
    "    if len_i>0 and len_k>0:\n",
    "        for it_i in range(0,len_i-skip_last):\n",
    "            if i==k:\n",
    "                start_k=it_i+1\n",
    "            for it_k in range(start_k,len_k):\n",
    "                listLoadBlock_i=block_i[it_i]\n",
    "                listLoadBlock_k=block_k[it_k]\n",
    "                genoSum=[int(x>0 and y>0) for x,y in zip(listLoadBlock_i[1],listLoadBlock_k[1])]\n",
    "                sumCase=float(sum([int(x>0) for x in genoSum[0:patientsID_split_index]]))\n",
    "                sumControl=float(sum([int(x>0) for x in genoSum[(patientsID_split_index):len(patientsID_dictionnary)]]))\n",
    "        \n",
    "                ratioCase=sumCase/patientsID_split_index\n",
    "                ratioControl=sumControl/(len(patientsID_dictionnary)-patientsID_split_index)\n",
    "        \n",
    "                score=ratioCase-ratioControl\n",
    "                pvalue=fisher_exact([[sumCase,patientsID_split_index-sumCase],[sumControl,len(patientsID_dictionnary)-patientsID_split_index]],'greater')[1]\n",
    "        \n",
    "                if score>=0:\n",
    "                    scores.append(((listLoadBlock_i[0],listLoadBlock_k[0]),(score,pvalue,ratioCase,ratioControl,sumCase,sumControl)))\n",
    "    return scores\n"
   ]
  },
  {
   "cell_type": "code",
   "execution_count": 54,
   "metadata": {
    "collapsed": false
   },
   "outputs": [
    {
     "data": {
      "text/plain": [
       "[[0, 1], [2, 3]]"
      ]
     },
     "execution_count": 54,
     "metadata": {},
     "output_type": "execute_result"
    }
   ],
   "source": [
    "[[0,1]]+[[2,3]]"
   ]
  },
  {
   "cell_type": "code",
   "execution_count": 82,
   "metadata": {
    "collapsed": false,
    "scrolled": true
   },
   "outputs": [],
   "source": [
    "def ranking(sqlCase,sqlControl,scale,scope,p):\n",
    "    start_time = time.time()\n",
    "    nvariants=0\n",
    "    l_blocks=[]\n",
    "    \n",
    "    variants_case = sqlContext.sql(\"SELECT sample_id,chr,pos,ref,alt,gene_symbol,zygosity FROM variantData \"+sqlCase)\n",
    "    variants_control= sqlContext.sql(\"SELECT sample_id,chr,pos,ref,alt,gene_symbol,zygosity FROM variantData \"+sqlControl)\n",
    "\n",
    "    variants=variants_control.unionAll(variants_case)\n",
    "    variants_grouped=variants.rdd.map(createKey_VariantGene).groupByKey(p)\n",
    "\n",
    "    if scope=='monogenic':\n",
    "        if scale=='variant':\n",
    "            ntests=variants_grouped.count()\n",
    "            nvariants=ntests\n",
    "            finish_load_time=time.time()\n",
    "            runtime_load=finish_load_time - start_time\n",
    "            scores=variants_grouped.map(scoreVariant).filter(lambda x:x is not None).takeOrdered(1000, key=lambda (k,(v1,v2,v3,v4,v5,v6)): -v1)\n",
    "\n",
    "        if scale=='gene':\n",
    "            variants_grouped_by_gene=variants_grouped.map(geneAsKey).groupByKey(p)\n",
    "            ntests=variants_grouped_by_gene.count()\n",
    "            finish_load_time=time.time()\n",
    "            runtime_load=finish_load_time - start_time\n",
    "            burden_by_gene=variants_grouped_by_gene.map(burden)\n",
    "            burden_by_gene.count()\n",
    "            finish_burden_time=time.time()\n",
    "            runtime_burden=finish_burden_time - finish_load_time\n",
    "            scores=burden_by_gene.map(scoreGene).filter(lambda x:x is not None).takeOrdered(1000, key=lambda (k,(v1,v2,v3,v4,v5,v6)): -v1)\n",
    "\n",
    "    if scope=='digenic':\n",
    "        if scale=='variant':\n",
    "            ntests=variants_grouped.count()\n",
    "            nvariants=ntests\n",
    "            finish_load_time=time.time()\n",
    "            runtime_load=finish_load_time - start_time\n",
    "            \n",
    "            variants_grouped_with_partitions=variants_grouped.mapPartitionsWithIndex(lambda splitIndex,v: [(splitIndex,list(v))])\n",
    "            scores=[]\n",
    "            \n",
    "            n_pair_blocks=float(p*(p+1)/2)\n",
    "            bound_low=int(math.floor(n_pair_blocks/p))\n",
    "            bound_high=int(math.ceil(n_pair_blocks/p))\n",
    "\n",
    "            for i in range(0,p):\n",
    "                block_i=variants_grouped_with_partitions.filter(lambda (k,v):k==i).collect()[0][1]\n",
    "                if i<bound_low:\n",
    "                    list_blocks_to_pair=range(0,i+1)+range(p-bound_high+i+1,p)\n",
    "                else:\n",
    "                    list_blocks_to_pair=range(i-bound_low+1,i+1)\n",
    "                l_blocks=[l_blocks]+[list_blocks_to_pair]\n",
    "                score=variants_grouped_with_partitions.filter(lambda (k,v):k in list_blocks_to_pair).flatMap(lambda (k,v):scoreVariantPair(block_i,v,i,k)).takeOrdered(1000, key=lambda (k,(v1,v2,v3,v4,v5,v6)): -v1)\n",
    "                scores=scores+score\n",
    "            scores=sc.parallelize(scores,p).takeOrdered(1000, key=lambda (k,(v1,v2,v3,v4,v5,v6)): -v1)\n",
    "            ntests=ntests*(ntests+1)/2\n",
    "   \n",
    "        if scale=='gene':\n",
    "            variants_grouped_by_gene=variants_grouped.map(geneAsKey).groupByKey(p)\n",
    "            ntests=variants_grouped_by_gene.count()\n",
    "            finish_load_time=time.time()\n",
    "            runtime_load=finish_load_time - start_time\n",
    "            burden_by_gene=variants_grouped_by_gene.map(burden)\n",
    "            burden_by_gene.count()\n",
    "            finish_burden_time=time.time()\n",
    "            runtime_burden=finish_burden_time - finish_load_time\n",
    "            burden_by_gene_with_partitions=burden_by_gene.mapPartitionsWithIndex(lambda splitIndex,v: [(splitIndex,list(v))])\n",
    "            #burden_by_gene_with_partitions.cache()\n",
    "            scores=[]\n",
    "            for i in range(0,p):\n",
    "                block_i=burden_by_gene_with_partitions.filter(lambda (k,v):k==i).collect()[0][1]\n",
    "                score=burden_by_gene_with_partitions.filter(lambda (k,v):k>=i).flatMap(lambda (k,v):scoreGenePair(block_i,v,i,k)).takeOrdered(1000, key=lambda (k,(v1,v2,v3,v4,v5,v6)): -v1)\n",
    "                scores=scores+score\n",
    "            scores=sc.parallelize(scores,p).takeOrdered(1000, key=lambda (k,(v1,v2,v3,v4,v5,v6)): -v1)\n",
    "            ntests=ntests*(ntests+1)/2\n",
    "    \n",
    "    end_time=time.time()\n",
    "    if scale=='variant':\n",
    "        runtime_score=end_time - finish_load_time\n",
    "        all_times=[runtime_load,0,runtime_score]\n",
    "    if scale==\"gene\":\n",
    "        runtime_score=end_time - finish_burden_time\n",
    "        all_times=[runtime_load,runtime_burden,runtime_score]\n",
    "\n",
    "    return (all_times,scores,ntests,nvariants,l_blocks)\n"
   ]
  },
  {
   "cell_type": "code",
   "execution_count": 11,
   "metadata": {
    "collapsed": false
   },
   "outputs": [],
   "source": [
    "caseMAF=1.0\n",
    "controlMAF=1.0\n",
    "\n",
    "#pathVariants='/user/hive/warehouse/digest.db/exomes_1000g_p'\n",
    "pathVariants='/Users/yalb/Projects/Github/digest/exomes_1000g_p'\n",
    "parquetFile = sqlContext.read.parquet(pathVariants)\n",
    "parquetFile.registerTempTable(\"variantData\");\n",
    "\n",
    "patientsID_all = sqlContext.sql(\"SELECT distinct sample_id FROM variantData order by sample_id asc\").collect()\n",
    "patientsID_all = [patient[0] for patient in patientsID_all]\n",
    "\n",
    "genes_all = sqlContext.sql(\"SELECT distinct gene_symbol FROM variantData order by gene_symbol asc\").collect()\n",
    "genes_all = [gene[0] for gene in genes_all]\n",
    "genes_all.pop(0) ##First element is NULL\n"
   ]
  },
  {
   "cell_type": "code",
   "execution_count": 111,
   "metadata": {
    "collapsed": false
   },
   "outputs": [],
   "source": [
    "np.random.seed(133)\n",
    "\n",
    "n_genes=30\n",
    "n_samples=50\n",
    "\n",
    "scale='variant'\n",
    "scope='digenic'\n",
    "\n",
    "p=5\n",
    "\n",
    "runtimes=[]\n",
    "n_variants=[]\n",
    "    \n",
    "for n_genes in [n_genes]:\n",
    "    #np.random.shuffle(genes_all)\n",
    "    genes=toSQLString(genes_all[0:n_genes])\n",
    "    \n",
    "    #np.random.shuffle(patientsID_all)\n",
    "    patientsID_case=patientsID_all[0:n_samples]\n",
    "    patientsID_control=patientsID_all[n_samples:(2*n_samples)]\n",
    "                     \n",
    "    patientsID=patientsID_case+patientsID_control\n",
    "    patientsID_dictionnary=dict(zip(patientsID,range(len(patientsID))))\n",
    "        \n",
    "    patientsID_split_index_b = sc.broadcast(len(patientsID_case))\n",
    "    patientsID_dictionnary_b = sc.broadcast(patientsID_dictionnary)\n",
    "\n",
    "    controlMAF_b=sc.broadcast(controlMAF)\n",
    "    caseMAF_b=sc.broadcast(caseMAF)\n",
    "\n",
    "    sqlCase=\"where sample_id in \"+toSQLString(patientsID_case)+\" and gene_symbol in \"+genes\n",
    "    sqlControl=\"where sample_id in \"+toSQLString(patientsID_control)+\" and gene_symbol in \"+genes\n",
    "#    sqlCase=\"where sample_id in \"+toSQLString(patientsID_case)+\" and chr='1'\"\n",
    "#    sqlControl=\"where sample_id in \"+toSQLString(patientsID_control)+\" and chr='1'\"\n",
    "    \n",
    "    for i in range(0,1):\n",
    "        (all_times,scores,ntests,nvariants,l_blocks)=ranking(sqlCase,sqlControl,scale,scope,p)\n",
    "        runtimes.append(all_times)\n",
    "        n_variants.append(nvariants)\n",
    "        if all_times[2]>3600:\n",
    "            break\n"
   ]
  },
  {
   "cell_type": "code",
   "execution_count": 105,
   "metadata": {
    "collapsed": false
   },
   "outputs": [
    {
     "data": {
      "text/plain": [
       "709"
      ]
     },
     "execution_count": 105,
     "metadata": {},
     "output_type": "execute_result"
    }
   ],
   "source": [
    "nvariants"
   ]
  },
  {
   "cell_type": "code",
   "execution_count": 112,
   "metadata": {
    "collapsed": false
   },
   "outputs": [
    {
     "data": {
      "text/plain": [
       "[1.1071438789367676, 0, 28.229923009872437]"
      ]
     },
     "execution_count": 112,
     "metadata": {},
     "output_type": "execute_result"
    }
   ],
   "source": [
    "all_times"
   ]
  },
  {
   "cell_type": "code",
   "execution_count": 98,
   "metadata": {
    "collapsed": false
   },
   "outputs": [
    {
     "data": {
      "text/plain": [
       "[1.0633659362792969, 0, 21.333357095718384]"
      ]
     },
     "execution_count": 98,
     "metadata": {},
     "output_type": "execute_result"
    }
   ],
   "source": [
    "all_times"
   ]
  },
  {
   "cell_type": "code",
   "execution_count": 99,
   "metadata": {
    "collapsed": false
   },
   "outputs": [
    {
     "data": {
      "text/plain": [
       "[(((u'1:12776344:A:T', u'AADACL3'), (u'12:9248332:T:C', u'A2M')),\n",
       "  (0.26, 0.00095976017759529094, 0.42, 0.16, 21.0, 8.0)),\n",
       " (((u'1:12776344:A:T', u'AADACL3'), (u'22:43088549:C:T', u'A4GALT')),\n",
       "  (0.26, 0.00081907089681844901, 0.46, 0.2, 23.0, 10.0)),\n",
       " (((u'12:9021053:C:CGT', u'A2ML1'), (u'12:9248332:T:C', u'A2M')),\n",
       "  (0.26, 0.00081907089681844901, 0.46, 0.2, 23.0, 10.0))]"
      ]
     },
     "execution_count": 99,
     "metadata": {},
     "output_type": "execute_result"
    }
   ],
   "source": [
    "scores[0:3]"
   ]
  },
  {
   "cell_type": "code",
   "execution_count": 93,
   "metadata": {
    "collapsed": false
   },
   "outputs": [
    {
     "data": {
      "text/plain": [
       "[(((u'12:9013755:C:T', u'A2ML1'), (u'16:8832515:C:T', u'ABAT')),\n",
       "  (0.33999999999999997, 1.9039589026397727e-05, 0.6, 0.26, 30.0, 13.0)),\n",
       " (((u'16:8841834:G:T', u'ABAT'), (u'16:2349371:T:C', u'ABCA3')),\n",
       "  (0.32, 0.00010536058650236864, 0.46, 0.14, 23.0, 7.0)),\n",
       " (((u'12:9013755:C:T', u'A2ML1'), (u'16:8832485:G:T', u'ABAT')),\n",
       "  (0.31999999999999995, 4.5621735126025119e-05, 0.58, 0.26, 29.0, 13.0))]"
      ]
     },
     "execution_count": 93,
     "metadata": {},
     "output_type": "execute_result"
    }
   ],
   "source": [
    "scores[0:3]"
   ]
  },
  {
   "cell_type": "code",
   "execution_count": 73,
   "metadata": {
    "collapsed": false
   },
   "outputs": [],
   "source": [
    "variants_case = sqlContext.sql(\"SELECT sample_id,chr,pos,ref,alt,gene_symbol,zygosity FROM variantData \"+sqlCase+\" and pos=9021053\")"
   ]
  },
  {
   "cell_type": "code",
   "execution_count": 74,
   "metadata": {
    "collapsed": false
   },
   "outputs": [
    {
     "data": {
      "text/plain": [
       "[Row(sample_id=u'HG03446', chr=u'12', pos=9021053, ref=u'C', alt=u'CGT', gene_symbol=u'A2ML1', zygosity=u'Heterozygous'),\n",
       " Row(sample_id=u'HG03446', chr=u'12', pos=9021053, ref=u'C', alt=u'CGTGT', gene_symbol=u'A2ML1', zygosity=u'Heterozygous'),\n",
       " Row(sample_id=u'HG03446', chr=u'12', pos=9021053, ref=u'C', alt=u'CGTGTGT', gene_symbol=u'A2ML1', zygosity=u'Heterozygous'),\n",
       " Row(sample_id=u'HG03446', chr=u'12', pos=9021053, ref=u'C', alt=u'T', gene_symbol=u'A2ML1', zygosity=u'Heterozygous'),\n",
       " Row(sample_id=u'HG02952', chr=u'12', pos=9021053, ref=u'C', alt=u'CGT', gene_symbol=u'A2ML1', zygosity=u'Heterozygous'),\n",
       " Row(sample_id=u'HG02952', chr=u'12', pos=9021053, ref=u'C', alt=u'CGTGT', gene_symbol=u'A2ML1', zygosity=u'Heterozygous'),\n",
       " Row(sample_id=u'HG02952', chr=u'12', pos=9021053, ref=u'C', alt=u'CGTGTGT', gene_symbol=u'A2ML1', zygosity=u'Heterozygous'),\n",
       " Row(sample_id=u'HG02952', chr=u'12', pos=9021053, ref=u'C', alt=u'T', gene_symbol=u'A2ML1', zygosity=u'Heterozygous'),\n",
       " Row(sample_id=u'HG03121', chr=u'12', pos=9021053, ref=u'C', alt=u'CGT', gene_symbol=u'A2ML1', zygosity=u'Heterozygous'),\n",
       " Row(sample_id=u'HG03121', chr=u'12', pos=9021053, ref=u'C', alt=u'CGTGT', gene_symbol=u'A2ML1', zygosity=u'Heterozygous'),\n",
       " Row(sample_id=u'HG03121', chr=u'12', pos=9021053, ref=u'C', alt=u'CGTGTGT', gene_symbol=u'A2ML1', zygosity=u'Heterozygous'),\n",
       " Row(sample_id=u'HG03121', chr=u'12', pos=9021053, ref=u'C', alt=u'T', gene_symbol=u'A2ML1', zygosity=u'Heterozygous'),\n",
       " Row(sample_id=u'HG03367', chr=u'12', pos=9021053, ref=u'C', alt=u'CGT', gene_symbol=u'A2ML1', zygosity=u'Heterozygous'),\n",
       " Row(sample_id=u'HG03367', chr=u'12', pos=9021053, ref=u'C', alt=u'CGTGT', gene_symbol=u'A2ML1', zygosity=u'Heterozygous'),\n",
       " Row(sample_id=u'HG03367', chr=u'12', pos=9021053, ref=u'C', alt=u'CGTGTGT', gene_symbol=u'A2ML1', zygosity=u'Heterozygous'),\n",
       " Row(sample_id=u'HG03367', chr=u'12', pos=9021053, ref=u'C', alt=u'T', gene_symbol=u'A2ML1', zygosity=u'Heterozygous'),\n",
       " Row(sample_id=u'HG03366', chr=u'12', pos=9021053, ref=u'C', alt=u'CGT', gene_symbol=u'A2ML1', zygosity=u'Heterozygous'),\n",
       " Row(sample_id=u'HG03366', chr=u'12', pos=9021053, ref=u'C', alt=u'CGTGT', gene_symbol=u'A2ML1', zygosity=u'Heterozygous'),\n",
       " Row(sample_id=u'HG03366', chr=u'12', pos=9021053, ref=u'C', alt=u'CGTGTGT', gene_symbol=u'A2ML1', zygosity=u'Heterozygous'),\n",
       " Row(sample_id=u'HG03366', chr=u'12', pos=9021053, ref=u'C', alt=u'T', gene_symbol=u'A2ML1', zygosity=u'Heterozygous'),\n",
       " Row(sample_id=u'HG03397', chr=u'12', pos=9021053, ref=u'C', alt=u'CGT', gene_symbol=u'A2ML1', zygosity=u'Heterozygous'),\n",
       " Row(sample_id=u'HG03397', chr=u'12', pos=9021053, ref=u'C', alt=u'CGTGT', gene_symbol=u'A2ML1', zygosity=u'Heterozygous'),\n",
       " Row(sample_id=u'HG03397', chr=u'12', pos=9021053, ref=u'C', alt=u'CGTGTGT', gene_symbol=u'A2ML1', zygosity=u'Heterozygous'),\n",
       " Row(sample_id=u'HG03397', chr=u'12', pos=9021053, ref=u'C', alt=u'T', gene_symbol=u'A2ML1', zygosity=u'Heterozygous'),\n",
       " Row(sample_id=u'NA19435', chr=u'12', pos=9021053, ref=u'C', alt=u'CGTGTGT', gene_symbol=u'A2ML1', zygosity=u'Heterozygous'),\n",
       " Row(sample_id=u'NA19435', chr=u'12', pos=9021053, ref=u'C', alt=u'T', gene_symbol=u'A2ML1', zygosity=u'Heterozygous'),\n",
       " Row(sample_id=u'NA19435', chr=u'12', pos=9021053, ref=u'C', alt=u'CGT', gene_symbol=u'A2ML1', zygosity=u'Heterozygous'),\n",
       " Row(sample_id=u'NA19435', chr=u'12', pos=9021053, ref=u'C', alt=u'CGTGT', gene_symbol=u'A2ML1', zygosity=u'Heterozygous'),\n",
       " Row(sample_id=u'HG02799', chr=u'12', pos=9021053, ref=u'C', alt=u'CGT', gene_symbol=u'A2ML1', zygosity=u'Heterozygous'),\n",
       " Row(sample_id=u'HG02799', chr=u'12', pos=9021053, ref=u'C', alt=u'CGTGT', gene_symbol=u'A2ML1', zygosity=u'Heterozygous'),\n",
       " Row(sample_id=u'HG02799', chr=u'12', pos=9021053, ref=u'C', alt=u'CGTGTGT', gene_symbol=u'A2ML1', zygosity=u'Heterozygous'),\n",
       " Row(sample_id=u'HG02799', chr=u'12', pos=9021053, ref=u'C', alt=u'T', gene_symbol=u'A2ML1', zygosity=u'Heterozygous'),\n",
       " Row(sample_id=u'NA19350', chr=u'12', pos=9021053, ref=u'C', alt=u'CGT', gene_symbol=u'A2ML1', zygosity=u'Heterozygous'),\n",
       " Row(sample_id=u'NA19350', chr=u'12', pos=9021053, ref=u'C', alt=u'CGTGT', gene_symbol=u'A2ML1', zygosity=u'Heterozygous'),\n",
       " Row(sample_id=u'NA19350', chr=u'12', pos=9021053, ref=u'C', alt=u'CGTGTGT', gene_symbol=u'A2ML1', zygosity=u'Heterozygous'),\n",
       " Row(sample_id=u'NA19350', chr=u'12', pos=9021053, ref=u'C', alt=u'T', gene_symbol=u'A2ML1', zygosity=u'Heterozygous'),\n",
       " Row(sample_id=u'HG02798', chr=u'12', pos=9021053, ref=u'C', alt=u'CGT', gene_symbol=u'A2ML1', zygosity=u'Heterozygous'),\n",
       " Row(sample_id=u'HG02798', chr=u'12', pos=9021053, ref=u'C', alt=u'CGTGT', gene_symbol=u'A2ML1', zygosity=u'Heterozygous'),\n",
       " Row(sample_id=u'HG02798', chr=u'12', pos=9021053, ref=u'C', alt=u'CGTGTGT', gene_symbol=u'A2ML1', zygosity=u'Heterozygous'),\n",
       " Row(sample_id=u'HG02798', chr=u'12', pos=9021053, ref=u'C', alt=u'T', gene_symbol=u'A2ML1', zygosity=u'Heterozygous'),\n",
       " Row(sample_id=u'HG02317', chr=u'12', pos=9021053, ref=u'C', alt=u'CGT', gene_symbol=u'A2ML1', zygosity=u'Heterozygous'),\n",
       " Row(sample_id=u'HG02317', chr=u'12', pos=9021053, ref=u'C', alt=u'CGTGT', gene_symbol=u'A2ML1', zygosity=u'Heterozygous'),\n",
       " Row(sample_id=u'HG02317', chr=u'12', pos=9021053, ref=u'C', alt=u'CGTGTGT', gene_symbol=u'A2ML1', zygosity=u'Heterozygous'),\n",
       " Row(sample_id=u'HG02317', chr=u'12', pos=9021053, ref=u'C', alt=u'T', gene_symbol=u'A2ML1', zygosity=u'Heterozygous'),\n",
       " Row(sample_id=u'HG02577', chr=u'12', pos=9021053, ref=u'C', alt=u'CGT', gene_symbol=u'A2ML1', zygosity=u'Heterozygous'),\n",
       " Row(sample_id=u'HG02577', chr=u'12', pos=9021053, ref=u'C', alt=u'CGTGT', gene_symbol=u'A2ML1', zygosity=u'Heterozygous'),\n",
       " Row(sample_id=u'HG02577', chr=u'12', pos=9021053, ref=u'C', alt=u'CGTGTGT', gene_symbol=u'A2ML1', zygosity=u'Heterozygous'),\n",
       " Row(sample_id=u'HG02577', chr=u'12', pos=9021053, ref=u'C', alt=u'T', gene_symbol=u'A2ML1', zygosity=u'Heterozygous'),\n",
       " Row(sample_id=u'HG02484', chr=u'12', pos=9021053, ref=u'C', alt=u'CGT', gene_symbol=u'A2ML1', zygosity=u'Heterozygous'),\n",
       " Row(sample_id=u'HG02484', chr=u'12', pos=9021053, ref=u'C', alt=u'CGTGT', gene_symbol=u'A2ML1', zygosity=u'Heterozygous'),\n",
       " Row(sample_id=u'HG02484', chr=u'12', pos=9021053, ref=u'C', alt=u'CGTGTGT', gene_symbol=u'A2ML1', zygosity=u'Heterozygous'),\n",
       " Row(sample_id=u'HG02484', chr=u'12', pos=9021053, ref=u'C', alt=u'T', gene_symbol=u'A2ML1', zygosity=u'Heterozygous'),\n",
       " Row(sample_id=u'HG01286', chr=u'12', pos=9021053, ref=u'C', alt=u'CGT', gene_symbol=u'A2ML1', zygosity=u'Heterozygous'),\n",
       " Row(sample_id=u'HG01286', chr=u'12', pos=9021053, ref=u'C', alt=u'CGTGT', gene_symbol=u'A2ML1', zygosity=u'Heterozygous'),\n",
       " Row(sample_id=u'HG01286', chr=u'12', pos=9021053, ref=u'C', alt=u'CGTGTGT', gene_symbol=u'A2ML1', zygosity=u'Heterozygous'),\n",
       " Row(sample_id=u'HG01286', chr=u'12', pos=9021053, ref=u'C', alt=u'T', gene_symbol=u'A2ML1', zygosity=u'Heterozygous'),\n",
       " Row(sample_id=u'HG01182', chr=u'12', pos=9021053, ref=u'C', alt=u'CGT', gene_symbol=u'A2ML1', zygosity=u'Heterozygous'),\n",
       " Row(sample_id=u'HG01182', chr=u'12', pos=9021053, ref=u'C', alt=u'CGTGT', gene_symbol=u'A2ML1', zygosity=u'Heterozygous'),\n",
       " Row(sample_id=u'HG01182', chr=u'12', pos=9021053, ref=u'C', alt=u'CGTGTGT', gene_symbol=u'A2ML1', zygosity=u'Heterozygous'),\n",
       " Row(sample_id=u'HG01182', chr=u'12', pos=9021053, ref=u'C', alt=u'T', gene_symbol=u'A2ML1', zygosity=u'Heterozygous'),\n",
       " Row(sample_id=u'HG03611', chr=u'12', pos=9021053, ref=u'C', alt=u'CGT', gene_symbol=u'A2ML1', zygosity=u'Heterozygous'),\n",
       " Row(sample_id=u'HG03611', chr=u'12', pos=9021053, ref=u'C', alt=u'CGTGT', gene_symbol=u'A2ML1', zygosity=u'Heterozygous'),\n",
       " Row(sample_id=u'HG03611', chr=u'12', pos=9021053, ref=u'C', alt=u'CGTGTGT', gene_symbol=u'A2ML1', zygosity=u'Heterozygous'),\n",
       " Row(sample_id=u'HG03611', chr=u'12', pos=9021053, ref=u'C', alt=u'T', gene_symbol=u'A2ML1', zygosity=u'Heterozygous'),\n",
       " Row(sample_id=u'NA21090', chr=u'12', pos=9021053, ref=u'C', alt=u'CGT', gene_symbol=u'A2ML1', zygosity=u'Heterozygous'),\n",
       " Row(sample_id=u'NA21090', chr=u'12', pos=9021053, ref=u'C', alt=u'CGTGT', gene_symbol=u'A2ML1', zygosity=u'Heterozygous'),\n",
       " Row(sample_id=u'NA21090', chr=u'12', pos=9021053, ref=u'C', alt=u'CGTGTGT', gene_symbol=u'A2ML1', zygosity=u'Heterozygous'),\n",
       " Row(sample_id=u'NA21090', chr=u'12', pos=9021053, ref=u'C', alt=u'T', gene_symbol=u'A2ML1', zygosity=u'Heterozygous'),\n",
       " Row(sample_id=u'HG03826', chr=u'12', pos=9021053, ref=u'C', alt=u'CGT', gene_symbol=u'A2ML1', zygosity=u'Heterozygous'),\n",
       " Row(sample_id=u'HG03826', chr=u'12', pos=9021053, ref=u'C', alt=u'CGTGT', gene_symbol=u'A2ML1', zygosity=u'Heterozygous'),\n",
       " Row(sample_id=u'HG03826', chr=u'12', pos=9021053, ref=u'C', alt=u'CGTGTGT', gene_symbol=u'A2ML1', zygosity=u'Heterozygous'),\n",
       " Row(sample_id=u'HG03826', chr=u'12', pos=9021053, ref=u'C', alt=u'T', gene_symbol=u'A2ML1', zygosity=u'Heterozygous'),\n",
       " Row(sample_id=u'HG04002', chr=u'12', pos=9021053, ref=u'C', alt=u'CGTGTGT', gene_symbol=u'A2ML1', zygosity=u'Heterozygous'),\n",
       " Row(sample_id=u'HG04002', chr=u'12', pos=9021053, ref=u'C', alt=u'T', gene_symbol=u'A2ML1', zygosity=u'Heterozygous'),\n",
       " Row(sample_id=u'HG04002', chr=u'12', pos=9021053, ref=u'C', alt=u'CGT', gene_symbol=u'A2ML1', zygosity=u'Heterozygous'),\n",
       " Row(sample_id=u'HG04002', chr=u'12', pos=9021053, ref=u'C', alt=u'CGTGT', gene_symbol=u'A2ML1', zygosity=u'Heterozygous'),\n",
       " Row(sample_id=u'NA18634', chr=u'12', pos=9021053, ref=u'C', alt=u'CGT', gene_symbol=u'A2ML1', zygosity=u'Heterozygous'),\n",
       " Row(sample_id=u'NA18634', chr=u'12', pos=9021053, ref=u'C', alt=u'CGTGT', gene_symbol=u'A2ML1', zygosity=u'Heterozygous'),\n",
       " Row(sample_id=u'NA18634', chr=u'12', pos=9021053, ref=u'C', alt=u'CGTGTGT', gene_symbol=u'A2ML1', zygosity=u'Heterozygous'),\n",
       " Row(sample_id=u'NA18634', chr=u'12', pos=9021053, ref=u'C', alt=u'T', gene_symbol=u'A2ML1', zygosity=u'Heterozygous'),\n",
       " Row(sample_id=u'HG02682', chr=u'12', pos=9021053, ref=u'C', alt=u'CGT', gene_symbol=u'A2ML1', zygosity=u'Heterozygous'),\n",
       " Row(sample_id=u'HG02682', chr=u'12', pos=9021053, ref=u'C', alt=u'CGTGT', gene_symbol=u'A2ML1', zygosity=u'Heterozygous'),\n",
       " Row(sample_id=u'HG02682', chr=u'12', pos=9021053, ref=u'C', alt=u'CGTGTGT', gene_symbol=u'A2ML1', zygosity=u'Heterozygous'),\n",
       " Row(sample_id=u'HG02682', chr=u'12', pos=9021053, ref=u'C', alt=u'T', gene_symbol=u'A2ML1', zygosity=u'Heterozygous'),\n",
       " Row(sample_id=u'HG01067', chr=u'12', pos=9021053, ref=u'C', alt=u'CGT', gene_symbol=u'A2ML1', zygosity=u'Heterozygous'),\n",
       " Row(sample_id=u'HG01067', chr=u'12', pos=9021053, ref=u'C', alt=u'CGTGT', gene_symbol=u'A2ML1', zygosity=u'Heterozygous'),\n",
       " Row(sample_id=u'HG01067', chr=u'12', pos=9021053, ref=u'C', alt=u'CGTGTGT', gene_symbol=u'A2ML1', zygosity=u'Heterozygous'),\n",
       " Row(sample_id=u'HG01067', chr=u'12', pos=9021053, ref=u'C', alt=u'T', gene_symbol=u'A2ML1', zygosity=u'Heterozygous'),\n",
       " Row(sample_id=u'NA19792', chr=u'12', pos=9021053, ref=u'C', alt=u'CGT', gene_symbol=u'A2ML1', zygosity=u'Heterozygous'),\n",
       " Row(sample_id=u'NA19792', chr=u'12', pos=9021053, ref=u'C', alt=u'CGTGT', gene_symbol=u'A2ML1', zygosity=u'Heterozygous'),\n",
       " Row(sample_id=u'NA19792', chr=u'12', pos=9021053, ref=u'C', alt=u'CGTGTGT', gene_symbol=u'A2ML1', zygosity=u'Heterozygous'),\n",
       " Row(sample_id=u'NA19792', chr=u'12', pos=9021053, ref=u'C', alt=u'T', gene_symbol=u'A2ML1', zygosity=u'Heterozygous'),\n",
       " Row(sample_id=u'HG01595', chr=u'12', pos=9021053, ref=u'C', alt=u'CGT', gene_symbol=u'A2ML1', zygosity=u'Heterozygous'),\n",
       " Row(sample_id=u'HG01595', chr=u'12', pos=9021053, ref=u'C', alt=u'CGTGT', gene_symbol=u'A2ML1', zygosity=u'Heterozygous'),\n",
       " Row(sample_id=u'HG01595', chr=u'12', pos=9021053, ref=u'C', alt=u'CGTGTGT', gene_symbol=u'A2ML1', zygosity=u'Heterozygous'),\n",
       " Row(sample_id=u'HG01595', chr=u'12', pos=9021053, ref=u'C', alt=u'T', gene_symbol=u'A2ML1', zygosity=u'Heterozygous'),\n",
       " Row(sample_id=u'HG03784', chr=u'12', pos=9021053, ref=u'C', alt=u'CGT', gene_symbol=u'A2ML1', zygosity=u'Heterozygous'),\n",
       " Row(sample_id=u'HG03784', chr=u'12', pos=9021053, ref=u'C', alt=u'CGTGT', gene_symbol=u'A2ML1', zygosity=u'Heterozygous'),\n",
       " Row(sample_id=u'HG03784', chr=u'12', pos=9021053, ref=u'C', alt=u'CGTGTGT', gene_symbol=u'A2ML1', zygosity=u'Heterozygous'),\n",
       " Row(sample_id=u'HG03784', chr=u'12', pos=9021053, ref=u'C', alt=u'T', gene_symbol=u'A2ML1', zygosity=u'Heterozygous'),\n",
       " Row(sample_id=u'HG03885', chr=u'12', pos=9021053, ref=u'C', alt=u'CGT', gene_symbol=u'A2ML1', zygosity=u'Heterozygous'),\n",
       " Row(sample_id=u'HG03885', chr=u'12', pos=9021053, ref=u'C', alt=u'CGTGT', gene_symbol=u'A2ML1', zygosity=u'Heterozygous'),\n",
       " Row(sample_id=u'HG03885', chr=u'12', pos=9021053, ref=u'C', alt=u'CGTGTGT', gene_symbol=u'A2ML1', zygosity=u'Heterozygous'),\n",
       " Row(sample_id=u'HG03885', chr=u'12', pos=9021053, ref=u'C', alt=u'T', gene_symbol=u'A2ML1', zygosity=u'Heterozygous'),\n",
       " Row(sample_id=u'NA19068', chr=u'12', pos=9021053, ref=u'C', alt=u'CGT', gene_symbol=u'A2ML1', zygosity=u'Heterozygous'),\n",
       " Row(sample_id=u'NA19068', chr=u'12', pos=9021053, ref=u'C', alt=u'CGTGT', gene_symbol=u'A2ML1', zygosity=u'Heterozygous'),\n",
       " Row(sample_id=u'NA19068', chr=u'12', pos=9021053, ref=u'C', alt=u'CGTGTGT', gene_symbol=u'A2ML1', zygosity=u'Heterozygous'),\n",
       " Row(sample_id=u'NA19068', chr=u'12', pos=9021053, ref=u'C', alt=u'T', gene_symbol=u'A2ML1', zygosity=u'Heterozygous'),\n",
       " Row(sample_id=u'HG02688', chr=u'12', pos=9021053, ref=u'C', alt=u'CGT', gene_symbol=u'A2ML1', zygosity=u'Heterozygous'),\n",
       " Row(sample_id=u'HG02688', chr=u'12', pos=9021053, ref=u'C', alt=u'CGTGT', gene_symbol=u'A2ML1', zygosity=u'Heterozygous'),\n",
       " Row(sample_id=u'HG02688', chr=u'12', pos=9021053, ref=u'C', alt=u'CGTGTGT', gene_symbol=u'A2ML1', zygosity=u'Heterozygous'),\n",
       " Row(sample_id=u'HG02688', chr=u'12', pos=9021053, ref=u'C', alt=u'T', gene_symbol=u'A2ML1', zygosity=u'Heterozygous'),\n",
       " Row(sample_id=u'HG03851', chr=u'12', pos=9021053, ref=u'C', alt=u'CGT', gene_symbol=u'A2ML1', zygosity=u'Heterozygous'),\n",
       " Row(sample_id=u'HG03851', chr=u'12', pos=9021053, ref=u'C', alt=u'CGTGT', gene_symbol=u'A2ML1', zygosity=u'Heterozygous'),\n",
       " Row(sample_id=u'HG03851', chr=u'12', pos=9021053, ref=u'C', alt=u'CGTGTGT', gene_symbol=u'A2ML1', zygosity=u'Heterozygous'),\n",
       " Row(sample_id=u'HG03851', chr=u'12', pos=9021053, ref=u'C', alt=u'T', gene_symbol=u'A2ML1', zygosity=u'Heterozygous'),\n",
       " Row(sample_id=u'NA20869', chr=u'12', pos=9021053, ref=u'C', alt=u'CGT', gene_symbol=u'A2ML1', zygosity=u'Heterozygous'),\n",
       " Row(sample_id=u'NA20869', chr=u'12', pos=9021053, ref=u'C', alt=u'CGTGT', gene_symbol=u'A2ML1', zygosity=u'Heterozygous'),\n",
       " Row(sample_id=u'NA20869', chr=u'12', pos=9021053, ref=u'C', alt=u'CGTGTGT', gene_symbol=u'A2ML1', zygosity=u'Heterozygous'),\n",
       " Row(sample_id=u'NA20869', chr=u'12', pos=9021053, ref=u'C', alt=u'T', gene_symbol=u'A2ML1', zygosity=u'Heterozygous'),\n",
       " Row(sample_id=u'HG01795', chr=u'12', pos=9021053, ref=u'C', alt=u'CGT', gene_symbol=u'A2ML1', zygosity=u'Heterozygous'),\n",
       " Row(sample_id=u'HG01795', chr=u'12', pos=9021053, ref=u'C', alt=u'CGTGT', gene_symbol=u'A2ML1', zygosity=u'Heterozygous'),\n",
       " Row(sample_id=u'HG01795', chr=u'12', pos=9021053, ref=u'C', alt=u'CGTGTGT', gene_symbol=u'A2ML1', zygosity=u'Heterozygous'),\n",
       " Row(sample_id=u'HG01795', chr=u'12', pos=9021053, ref=u'C', alt=u'T', gene_symbol=u'A2ML1', zygosity=u'Heterozygous'),\n",
       " Row(sample_id=u'HG01597', chr=u'12', pos=9021053, ref=u'C', alt=u'T', gene_symbol=u'A2ML1', zygosity=u'Heterozygous'),\n",
       " Row(sample_id=u'HG01597', chr=u'12', pos=9021053, ref=u'C', alt=u'CGT', gene_symbol=u'A2ML1', zygosity=u'Heterozygous'),\n",
       " Row(sample_id=u'HG01597', chr=u'12', pos=9021053, ref=u'C', alt=u'CGTGT', gene_symbol=u'A2ML1', zygosity=u'Heterozygous'),\n",
       " Row(sample_id=u'HG01597', chr=u'12', pos=9021053, ref=u'C', alt=u'CGTGTGT', gene_symbol=u'A2ML1', zygosity=u'Heterozygous'),\n",
       " Row(sample_id=u'HG03991', chr=u'12', pos=9021053, ref=u'C', alt=u'CGT', gene_symbol=u'A2ML1', zygosity=u'Heterozygous'),\n",
       " Row(sample_id=u'HG03991', chr=u'12', pos=9021053, ref=u'C', alt=u'CGTGT', gene_symbol=u'A2ML1', zygosity=u'Heterozygous'),\n",
       " Row(sample_id=u'HG03991', chr=u'12', pos=9021053, ref=u'C', alt=u'CGTGTGT', gene_symbol=u'A2ML1', zygosity=u'Heterozygous'),\n",
       " Row(sample_id=u'HG03991', chr=u'12', pos=9021053, ref=u'C', alt=u'T', gene_symbol=u'A2ML1', zygosity=u'Heterozygous'),\n",
       " Row(sample_id=u'HG02073', chr=u'12', pos=9021053, ref=u'C', alt=u'CGT', gene_symbol=u'A2ML1', zygosity=u'Heterozygous'),\n",
       " Row(sample_id=u'HG02073', chr=u'12', pos=9021053, ref=u'C', alt=u'CGTGT', gene_symbol=u'A2ML1', zygosity=u'Heterozygous'),\n",
       " Row(sample_id=u'HG02073', chr=u'12', pos=9021053, ref=u'C', alt=u'CGTGTGT', gene_symbol=u'A2ML1', zygosity=u'Heterozygous'),\n",
       " Row(sample_id=u'HG02073', chr=u'12', pos=9021053, ref=u'C', alt=u'T', gene_symbol=u'A2ML1', zygosity=u'Heterozygous'),\n",
       " Row(sample_id=u'NA19682', chr=u'12', pos=9021053, ref=u'C', alt=u'CGT', gene_symbol=u'A2ML1', zygosity=u'Heterozygous'),\n",
       " Row(sample_id=u'NA19682', chr=u'12', pos=9021053, ref=u'C', alt=u'CGTGT', gene_symbol=u'A2ML1', zygosity=u'Heterozygous'),\n",
       " Row(sample_id=u'NA19682', chr=u'12', pos=9021053, ref=u'C', alt=u'CGTGTGT', gene_symbol=u'A2ML1', zygosity=u'Heterozygous'),\n",
       " Row(sample_id=u'NA19682', chr=u'12', pos=9021053, ref=u'C', alt=u'T', gene_symbol=u'A2ML1', zygosity=u'Heterozygous'),\n",
       " Row(sample_id=u'NA19007', chr=u'12', pos=9021053, ref=u'C', alt=u'CGT', gene_symbol=u'A2ML1', zygosity=u'Heterozygous'),\n",
       " Row(sample_id=u'NA19007', chr=u'12', pos=9021053, ref=u'C', alt=u'CGTGT', gene_symbol=u'A2ML1', zygosity=u'Heterozygous'),\n",
       " Row(sample_id=u'NA19007', chr=u'12', pos=9021053, ref=u'C', alt=u'CGTGTGT', gene_symbol=u'A2ML1', zygosity=u'Heterozygous'),\n",
       " Row(sample_id=u'NA19007', chr=u'12', pos=9021053, ref=u'C', alt=u'T', gene_symbol=u'A2ML1', zygosity=u'Heterozygous'),\n",
       " Row(sample_id=u'HG00640', chr=u'12', pos=9021053, ref=u'C', alt=u'CGT', gene_symbol=u'A2ML1', zygosity=u'Heterozygous'),\n",
       " Row(sample_id=u'HG00640', chr=u'12', pos=9021053, ref=u'C', alt=u'CGTGT', gene_symbol=u'A2ML1', zygosity=u'Heterozygous'),\n",
       " Row(sample_id=u'HG00640', chr=u'12', pos=9021053, ref=u'C', alt=u'CGTGTGT', gene_symbol=u'A2ML1', zygosity=u'Heterozygous'),\n",
       " Row(sample_id=u'HG00640', chr=u'12', pos=9021053, ref=u'C', alt=u'T', gene_symbol=u'A2ML1', zygosity=u'Heterozygous'),\n",
       " Row(sample_id=u'NA18630', chr=u'12', pos=9021053, ref=u'C', alt=u'CGT', gene_symbol=u'A2ML1', zygosity=u'Heterozygous'),\n",
       " Row(sample_id=u'NA18630', chr=u'12', pos=9021053, ref=u'C', alt=u'CGTGT', gene_symbol=u'A2ML1', zygosity=u'Heterozygous'),\n",
       " Row(sample_id=u'NA18630', chr=u'12', pos=9021053, ref=u'C', alt=u'CGTGTGT', gene_symbol=u'A2ML1', zygosity=u'Heterozygous'),\n",
       " Row(sample_id=u'NA18630', chr=u'12', pos=9021053, ref=u'C', alt=u'T', gene_symbol=u'A2ML1', zygosity=u'Heterozygous'),\n",
       " Row(sample_id=u'NA18534', chr=u'12', pos=9021053, ref=u'C', alt=u'CGT', gene_symbol=u'A2ML1', zygosity=u'Heterozygous'),\n",
       " Row(sample_id=u'NA18534', chr=u'12', pos=9021053, ref=u'C', alt=u'CGTGT', gene_symbol=u'A2ML1', zygosity=u'Heterozygous'),\n",
       " Row(sample_id=u'NA18534', chr=u'12', pos=9021053, ref=u'C', alt=u'CGTGTGT', gene_symbol=u'A2ML1', zygosity=u'Heterozygous'),\n",
       " Row(sample_id=u'NA18534', chr=u'12', pos=9021053, ref=u'C', alt=u'T', gene_symbol=u'A2ML1', zygosity=u'Heterozygous'),\n",
       " Row(sample_id=u'HG01668', chr=u'12', pos=9021053, ref=u'C', alt=u'CGT', gene_symbol=u'A2ML1', zygosity=u'Heterozygous'),\n",
       " Row(sample_id=u'HG01668', chr=u'12', pos=9021053, ref=u'C', alt=u'CGTGT', gene_symbol=u'A2ML1', zygosity=u'Heterozygous'),\n",
       " Row(sample_id=u'HG01668', chr=u'12', pos=9021053, ref=u'C', alt=u'CGTGTGT', gene_symbol=u'A2ML1', zygosity=u'Heterozygous'),\n",
       " Row(sample_id=u'HG01668', chr=u'12', pos=9021053, ref=u'C', alt=u'T', gene_symbol=u'A2ML1', zygosity=u'Heterozygous'),\n",
       " Row(sample_id=u'HG02232', chr=u'12', pos=9021053, ref=u'C', alt=u'CGT', gene_symbol=u'A2ML1', zygosity=u'Heterozygous'),\n",
       " Row(sample_id=u'HG02232', chr=u'12', pos=9021053, ref=u'C', alt=u'CGTGT', gene_symbol=u'A2ML1', zygosity=u'Heterozygous'),\n",
       " Row(sample_id=u'HG02232', chr=u'12', pos=9021053, ref=u'C', alt=u'CGTGTGT', gene_symbol=u'A2ML1', zygosity=u'Heterozygous'),\n",
       " Row(sample_id=u'HG02232', chr=u'12', pos=9021053, ref=u'C', alt=u'T', gene_symbol=u'A2ML1', zygosity=u'Heterozygous'),\n",
       " Row(sample_id=u'NA18949', chr=u'12', pos=9021053, ref=u'C', alt=u'CGT', gene_symbol=u'A2ML1', zygosity=u'Heterozygous'),\n",
       " Row(sample_id=u'NA18949', chr=u'12', pos=9021053, ref=u'C', alt=u'CGTGT', gene_symbol=u'A2ML1', zygosity=u'Heterozygous'),\n",
       " Row(sample_id=u'NA18949', chr=u'12', pos=9021053, ref=u'C', alt=u'CGTGTGT', gene_symbol=u'A2ML1', zygosity=u'Heterozygous'),\n",
       " Row(sample_id=u'NA18949', chr=u'12', pos=9021053, ref=u'C', alt=u'T', gene_symbol=u'A2ML1', zygosity=u'Heterozygous'),\n",
       " Row(sample_id=u'NA19074', chr=u'12', pos=9021053, ref=u'C', alt=u'CGT', gene_symbol=u'A2ML1', zygosity=u'Heterozygous'),\n",
       " Row(sample_id=u'NA19074', chr=u'12', pos=9021053, ref=u'C', alt=u'CGTGT', gene_symbol=u'A2ML1', zygosity=u'Heterozygous'),\n",
       " Row(sample_id=u'NA19074', chr=u'12', pos=9021053, ref=u'C', alt=u'CGTGTGT', gene_symbol=u'A2ML1', zygosity=u'Heterozygous'),\n",
       " Row(sample_id=u'NA19074', chr=u'12', pos=9021053, ref=u'C', alt=u'T', gene_symbol=u'A2ML1', zygosity=u'Heterozygous'),\n",
       " Row(sample_id=u'NA12383', chr=u'12', pos=9021053, ref=u'C', alt=u'CGT', gene_symbol=u'A2ML1', zygosity=u'Heterozygous'),\n",
       " Row(sample_id=u'NA12383', chr=u'12', pos=9021053, ref=u'C', alt=u'CGTGT', gene_symbol=u'A2ML1', zygosity=u'Heterozygous'),\n",
       " Row(sample_id=u'NA12383', chr=u'12', pos=9021053, ref=u'C', alt=u'CGTGTGT', gene_symbol=u'A2ML1', zygosity=u'Heterozygous'),\n",
       " Row(sample_id=u'NA12383', chr=u'12', pos=9021053, ref=u'C', alt=u'T', gene_symbol=u'A2ML1', zygosity=u'Heterozygous'),\n",
       " Row(sample_id=u'HG04209', chr=u'12', pos=9021053, ref=u'C', alt=u'CGT', gene_symbol=u'A2ML1', zygosity=u'Heterozygous'),\n",
       " Row(sample_id=u'HG04209', chr=u'12', pos=9021053, ref=u'C', alt=u'CGTGT', gene_symbol=u'A2ML1', zygosity=u'Heterozygous'),\n",
       " Row(sample_id=u'HG04209', chr=u'12', pos=9021053, ref=u'C', alt=u'CGTGTGT', gene_symbol=u'A2ML1', zygosity=u'Heterozygous'),\n",
       " Row(sample_id=u'HG04209', chr=u'12', pos=9021053, ref=u'C', alt=u'T', gene_symbol=u'A2ML1', zygosity=u'Heterozygous'),\n",
       " Row(sample_id=u'NA20811', chr=u'12', pos=9021053, ref=u'C', alt=u'CGT', gene_symbol=u'A2ML1', zygosity=u'Heterozygous'),\n",
       " Row(sample_id=u'NA20811', chr=u'12', pos=9021053, ref=u'C', alt=u'CGTGT', gene_symbol=u'A2ML1', zygosity=u'Heterozygous'),\n",
       " Row(sample_id=u'NA20811', chr=u'12', pos=9021053, ref=u'C', alt=u'CGTGTGT', gene_symbol=u'A2ML1', zygosity=u'Heterozygous'),\n",
       " Row(sample_id=u'NA20811', chr=u'12', pos=9021053, ref=u'C', alt=u'T', gene_symbol=u'A2ML1', zygosity=u'Heterozygous'),\n",
       " Row(sample_id=u'NA12249', chr=u'12', pos=9021053, ref=u'C', alt=u'CGTGT', gene_symbol=u'A2ML1', zygosity=u'Heterozygous'),\n",
       " Row(sample_id=u'NA12249', chr=u'12', pos=9021053, ref=u'C', alt=u'CGTGTGT', gene_symbol=u'A2ML1', zygosity=u'Heterozygous'),\n",
       " Row(sample_id=u'NA12249', chr=u'12', pos=9021053, ref=u'C', alt=u'T', gene_symbol=u'A2ML1', zygosity=u'Heterozygous'),\n",
       " Row(sample_id=u'NA12249', chr=u'12', pos=9021053, ref=u'C', alt=u'CGT', gene_symbol=u'A2ML1', zygosity=u'Heterozygous'),\n",
       " Row(sample_id=u'HG00275', chr=u'12', pos=9021053, ref=u'C', alt=u'CGT', gene_symbol=u'A2ML1', zygosity=u'Heterozygous'),\n",
       " Row(sample_id=u'HG00275', chr=u'12', pos=9021053, ref=u'C', alt=u'CGTGT', gene_symbol=u'A2ML1', zygosity=u'Heterozygous'),\n",
       " Row(sample_id=u'HG00275', chr=u'12', pos=9021053, ref=u'C', alt=u'CGTGTGT', gene_symbol=u'A2ML1', zygosity=u'Heterozygous'),\n",
       " Row(sample_id=u'HG00275', chr=u'12', pos=9021053, ref=u'C', alt=u'T', gene_symbol=u'A2ML1', zygosity=u'Heterozygous'),\n",
       " Row(sample_id=u'HG04093', chr=u'12', pos=9021053, ref=u'C', alt=u'CGT', gene_symbol=u'A2ML1', zygosity=u'Heterozygous'),\n",
       " Row(sample_id=u'HG04093', chr=u'12', pos=9021053, ref=u'C', alt=u'CGTGT', gene_symbol=u'A2ML1', zygosity=u'Heterozygous'),\n",
       " Row(sample_id=u'HG04093', chr=u'12', pos=9021053, ref=u'C', alt=u'CGTGTGT', gene_symbol=u'A2ML1', zygosity=u'Heterozygous'),\n",
       " Row(sample_id=u'HG04093', chr=u'12', pos=9021053, ref=u'C', alt=u'T', gene_symbol=u'A2ML1', zygosity=u'Heterozygous')]"
      ]
     },
     "execution_count": 74,
     "metadata": {},
     "output_type": "execute_result"
    }
   ],
   "source": [
    "variants_case.collect()"
   ]
  },
  {
   "cell_type": "code",
   "execution_count": 68,
   "metadata": {
    "collapsed": false
   },
   "outputs": [
    {
     "data": {
      "text/plain": [
       "[Row(sample_id=u'NA19435', chr=u'12', pos=9248332, ref=u'T', alt=u'C', gene_symbol=u'A2M', zygosity=u'Heterozygous'),\n",
       " Row(sample_id=u'HG02577', chr=u'12', pos=9248332, ref=u'T', alt=u'C', gene_symbol=u'A2M', zygosity=u'Heterozygous'),\n",
       " Row(sample_id=u'HG02484', chr=u'12', pos=9248332, ref=u'T', alt=u'C', gene_symbol=u'A2M', zygosity=u'Heterozygous'),\n",
       " Row(sample_id=u'NA21090', chr=u'12', pos=9248332, ref=u'T', alt=u'C', gene_symbol=u'A2M', zygosity=u'Heterozygous'),\n",
       " Row(sample_id=u'HG03826', chr=u'12', pos=9248332, ref=u'T', alt=u'C', gene_symbol=u'A2M', zygosity=u'Heterozygous'),\n",
       " Row(sample_id=u'HG04002', chr=u'12', pos=9248332, ref=u'T', alt=u'C', gene_symbol=u'A2M', zygosity=u'Heterozygous'),\n",
       " Row(sample_id=u'NA18634', chr=u'12', pos=9248332, ref=u'T', alt=u'C', gene_symbol=u'A2M', zygosity=u'Homozygous'),\n",
       " Row(sample_id=u'HG02682', chr=u'12', pos=9248332, ref=u'T', alt=u'C', gene_symbol=u'A2M', zygosity=u'Heterozygous'),\n",
       " Row(sample_id=u'NA19792', chr=u'12', pos=9248332, ref=u'T', alt=u'C', gene_symbol=u'A2M', zygosity=u'Heterozygous'),\n",
       " Row(sample_id=u'HG01595', chr=u'12', pos=9248332, ref=u'T', alt=u'C', gene_symbol=u'A2M', zygosity=u'Heterozygous'),\n",
       " Row(sample_id=u'HG03784', chr=u'12', pos=9248332, ref=u'T', alt=u'C', gene_symbol=u'A2M', zygosity=u'Heterozygous'),\n",
       " Row(sample_id=u'HG03885', chr=u'12', pos=9248332, ref=u'T', alt=u'C', gene_symbol=u'A2M', zygosity=u'Heterozygous'),\n",
       " Row(sample_id=u'NA19068', chr=u'12', pos=9248332, ref=u'T', alt=u'C', gene_symbol=u'A2M', zygosity=u'Heterozygous'),\n",
       " Row(sample_id=u'HG03851', chr=u'12', pos=9248332, ref=u'T', alt=u'C', gene_symbol=u'A2M', zygosity=u'Heterozygous'),\n",
       " Row(sample_id=u'HG01795', chr=u'12', pos=9248332, ref=u'T', alt=u'C', gene_symbol=u'A2M', zygosity=u'Heterozygous'),\n",
       " Row(sample_id=u'HG03991', chr=u'12', pos=9248332, ref=u'T', alt=u'C', gene_symbol=u'A2M', zygosity=u'Heterozygous'),\n",
       " Row(sample_id=u'HG02073', chr=u'12', pos=9248332, ref=u'T', alt=u'C', gene_symbol=u'A2M', zygosity=u'Heterozygous'),\n",
       " Row(sample_id=u'NA19007', chr=u'12', pos=9248332, ref=u'T', alt=u'C', gene_symbol=u'A2M', zygosity=u'Homozygous'),\n",
       " Row(sample_id=u'NA18630', chr=u'12', pos=9248332, ref=u'T', alt=u'C', gene_symbol=u'A2M', zygosity=u'Heterozygous'),\n",
       " Row(sample_id=u'NA18949', chr=u'12', pos=9248332, ref=u'T', alt=u'C', gene_symbol=u'A2M', zygosity=u'Homozygous'),\n",
       " Row(sample_id=u'NA19074', chr=u'12', pos=9248332, ref=u'T', alt=u'C', gene_symbol=u'A2M', zygosity=u'Heterozygous'),\n",
       " Row(sample_id=u'HG04209', chr=u'12', pos=9248332, ref=u'T', alt=u'C', gene_symbol=u'A2M', zygosity=u'Heterozygous'),\n",
       " Row(sample_id=u'NA12249', chr=u'12', pos=9248332, ref=u'T', alt=u'C', gene_symbol=u'A2M', zygosity=u'Heterozygous')]"
      ]
     },
     "execution_count": 68,
     "metadata": {},
     "output_type": "execute_result"
    }
   ],
   "source": [
    "variants_case.collect()"
   ]
  },
  {
   "cell_type": "code",
   "execution_count": 63,
   "metadata": {
    "collapsed": false
   },
   "outputs": [
    {
     "data": {
      "text/plain": [
       "[[[[[[], [0, 3, 4]], [0, 1, 4]], [0, 1, 2]], [1, 2, 3]], [2, 3, 4]]"
      ]
     },
     "execution_count": 63,
     "metadata": {},
     "output_type": "execute_result"
    }
   ],
   "source": [
    "l_blocks"
   ]
  },
  {
   "cell_type": "code",
   "execution_count": null,
   "metadata": {
    "collapsed": false
   },
   "outputs": [],
   "source": [
    "def expe_gene():\n",
    "    caseMAF=1.0\n",
    "    controlMAF=1.0\n",
    "\n",
    "    pathVariants='/user/hive/warehouse/digest.db/exomes_1000g_p'\n",
    "    parquetFile = sqlContext.read.parquet(pathVariants)\n",
    "    parquetFile.registerTempTable(\"variantData\");\n",
    "\n",
    "    patientsID_all = sqlContext.sql(\"SELECT distinct sample_id FROM variantData order by sample_id asc\").collect()\n",
    "    genes_all = sqlContext.sql(\"SELECT distinct gene_symbol FROM variantData order by gene_symbol asc\").collect()\n",
    "    patientsID_all = [patient[0] for patient in patientsID_all]\n",
    "    genes_all = [gene[0] for gene in genes_all]\n",
    "    genes_all.pop(0) ##First element is NULL\n",
    "    \n",
    "    np.random.seed(133)\n",
    "\n",
    "    n_genes=10\n",
    "    n_samples=10\n",
    "\n",
    "    scale='gene'\n",
    "    scope='digenic'\n",
    "\n",
    "    p=100\n",
    "\n",
    "    \n",
    "    runtimes=[]\n",
    "    \n",
    "    for n_genes in [1000]:\n",
    "        np.random.shuffle(genes_all)\n",
    "        genes=toSQLString(genes_all[0:n_genes])\n",
    "    \n",
    "        np.random.shuffle(patientsID_all)\n",
    "        patientsID_case=patientsID_all[0:n_samples]\n",
    "        patientsID_control=patientsID_all[n_samples:(2*n_samples)]\n",
    "                     \n",
    "        patientsID=patientsID_case+patientsID_control\n",
    "        patientsID_dictionnary=dict(zip(patientsID,range(len(patientsID))))\n",
    "        \n",
    "        patientsID_split_index_b = sc.broadcast(len(patientsID_case))\n",
    "        patientsID_dictionnary_b = sc.broadcast(patientsID_dictionnary)\n",
    "\n",
    "        controlMAF_b=sc.broadcast(controlMAF)\n",
    "        caseMAF_b=sc.broadcast(caseMAF)\n",
    "\n",
    "        sqlCase=\"where sample_id in \"+toSQLString(patientsID_case)+\" and gene_symbol in \"+genes\n",
    "        sqlControl=\"where sample_id in \"+toSQLString(patientsID_control)+\" and gene_symbol in \"+genes\n",
    "\n",
    "        for i in range(0,5):\n",
    "            (all_times,scores,ntests)=ranking(sqlCase,sqlControl,scale,scope,p)\n",
    "            runtimes.append(all_times)\n",
    "            if all_times[2]>3600:\n",
    "                break\n"
   ]
  },
  {
   "cell_type": "code",
   "execution_count": null,
   "metadata": {
    "collapsed": false
   },
   "outputs": [],
   "source": [
    "results=(runtimes,n_variants,sqlCase,sqlControl)\n",
    "results_rdd=sc.parallelize(results,1)\n",
    "\n",
    "params=sc._conf.getAll()\n",
    "app_name=''\n",
    "for i in range(0,len(params)):\n",
    "    if params[i][0]==\"spark.app.name\":\n",
    "        app_name=params[i][1]\n",
    "\n",
    "results_rdd.saveAsTextFile(\"hdfs:/user/yleborgn/\"+app_name+\"_\"+str(time.time()))\n",
    "   "
   ]
  },
  {
   "cell_type": "code",
   "execution_count": null,
   "metadata": {
    "collapsed": true
   },
   "outputs": [],
   "source": [
    "sc.stop()"
   ]
  }
 ],
 "metadata": {
  "kernelspec": {
   "display_name": "Python 2",
   "language": "python",
   "name": "python2"
  },
  "language_info": {
   "codemirror_mode": {
    "name": "ipython",
    "version": 2
   },
   "file_extension": ".py",
   "mimetype": "text/x-python",
   "name": "python",
   "nbconvert_exporter": "python",
   "pygments_lexer": "ipython2",
   "version": "2.7.11"
  }
 },
 "nbformat": 4,
 "nbformat_minor": 0
}
